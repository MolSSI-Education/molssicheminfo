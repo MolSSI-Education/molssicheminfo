{
 "cells": [
  {
   "cell_type": "markdown",
   "id": "fa186ad3-0eeb-46f2-903a-6941bd9796f0",
   "metadata": {
    "tags": []
   },
   "source": [
    "<div style=\"text-align:center;\">\n",
    "  <img src=\"custom/molssi_main_horizontal.png\" style=\"display: block; margin: 0 auto; max-height:200px;\">\n",
    "</div>\n",
    "\n",
    "# Python for Cheminformatics\n",
    "\n",
    "<div class=\"alert alert-block alert-info\">\n",
    "<h2>Table of Contents</h2>\n",
    "\n",
    "0. [Notebook 0: Python Introduction](00_python_basics.ipynb)\n",
    "1. [Notebook 1: Digital Representation of Molecules](01_molecule_representation.ipynb)\n",
    "2. [Notebook 2: Introduction to RDKit Molecules](02_rdkit_intro.ipynb)\n",
    "3. [Notebook 3: Molecular Fingerprints and Similarity Measures](03_molecular_similarity.ipynb)\n",
    "4. [Notebook 4: Challenge: Building a Dataset using RDKit](04_RDKit_dataset.ipynb)\n",
    "5. [Notebook 5: Data Examination and Visualizatin in Pandas Dataframes](05_pandas_seaborn.ipynb)\n",
    "7. [Notebook 6: Linear Fitting using ScikitLearn](06_sklearn_fitting_1.ipynb)\n",
    "8. [Notebook 7: Challenge: Fitting the ESOL model](07_ESOL_fitting.ipynb)\n",
    "\n",
    "</div>\n"
   ]
  },
  {
   "cell_type": "code",
   "execution_count": null,
   "id": "db194a6b-24c0-49e0-b3b0-e37b28bab0d8",
   "metadata": {},
   "outputs": [],
   "source": []
  }
 ],
 "metadata": {
  "kernelspec": {
   "display_name": "Python3.10 (MolSSI)",
   "language": "python",
   "name": "molssi"
  },
  "language_info": {
   "codemirror_mode": {
    "name": "ipython",
    "version": 3
   },
   "file_extension": ".py",
   "mimetype": "text/x-python",
   "name": "python",
   "nbconvert_exporter": "python",
   "pygments_lexer": "ipython3",
   "version": "3.10.14"
  }
 },
 "nbformat": 4,
 "nbformat_minor": 5
}
